{
 "cells": [
  {
   "cell_type": "markdown",
   "id": "7e2ff454-b14a-4ef1-986c-9087c003ea53",
   "metadata": {},
   "source": [
    "# Imitation Learning Dataset Generation Notebook\n",
    "\n",
    "This notebook is designed to generate additional datasets via imitation learning. It instantiates the default IsaacLab environment, overrides key parameters (such as the number of trials and parallel environments), loads an annotated dataset, and then runs a dataset generation workflow.\n"
   ]
  },
  {
   "cell_type": "code",
   "execution_count": null,
   "id": "d6df7ee5-90ac-4eb8-bf0f-9e34f6ebdbcf",
   "metadata": {},
   "outputs": [],
   "source": [
    "import nest_asyncio\n",
    "nest_asyncio.apply()\n",
    "\n",
    "from argparse import ArgumentParser, Namespace\n",
    "from isaaclab.app import AppLauncher\n",
    "\n",
    "def get_default_config():\n",
    "    \"\"\"Creates an argument parser, adds both custom and AppLauncher arguments, and returns parsed defaults.\"\"\"\n",
    "    parser = ArgumentParser(description=\"Generate demonstrations for Isaac Lab environments.\")\n",
    "    parser.add_argument(\"--task\", type=str, default=None, help=\"Name of the task.\")\n",
    "    parser.add_argument(\"--generation_num_trials\", type=int, default=10, help=\"Number of demos to generate.\")\n",
    "    parser.add_argument(\"--num_envs\", type=int, default=1, help=\"Number of environments to instantiate.\")\n",
    "    parser.add_argument(\"--input_file\", type=str, default=\"path/to/your/input_file.hdf5\", help=\"Path to the source dataset file.\")\n",
    "    parser.add_argument(\"--output_file\", type=str, default=\"./datasets/output_dataset.hdf5\", help=\"Path to export episodes.\")\n",
    "    parser.add_argument(\"--pause_subtask\", action=\"store_true\", help=\"Pause after every subtask during generation.\")\n",
    "    AppLauncher.add_app_launcher_args(parser)\n",
    "    return parser.parse_args([])\n",
    "\n",
    "args_cli = get_default_config()\n",
    "\n",
    "# ===================== MODIFY PARAMETERS HERE =====================\n",
    "# Update these parameters according to your needs\n",
    "custom_overrides = {\n",
    "    \"task\": \"Isaac-Stack-Cube-Franka-IK-Rel-Mimic-v0\",  # Task name\n",
    "    \"num_envs\": 9,                                       # Number of parallel environments\n",
    "    \"generation_num_trials\": 10,                         # Number of demonstrations to generate\n",
    "    \"input_file\": \"datasets/annotated_dataset.hdf5\",     # Source dataset path\n",
    "    \"output_file\": \"datasets/generated_dataset.hdf5\",    # Output dataset path\n",
    "}\n",
    "# ===============================================================\n",
    "\n",
    "# Update the default configuration\n",
    "args_dict = vars(args_cli)\n",
    "args_dict.update(custom_overrides)\n",
    "args_cli = Namespace(**args_dict)\n",
    "\n",
    "# Now launch the simulator with the final configuration\n",
    "app_launcher = AppLauncher(args_cli)\n",
    "simulation_app = app_launcher.app\n"
   ]
  },
  {
   "cell_type": "markdown",
   "id": "ddc54d6a",
   "metadata": {},
   "source": [
    "# Configure environment"
   ]
  },
  {
   "cell_type": "code",
   "execution_count": null,
   "id": "4fa2cf0f-cf3c-4383-a233-216ff1f48c5d",
   "metadata": {},
   "outputs": [],
   "source": [
    "import asyncio\n",
    "import gymnasium as gym\n",
    "import numpy as np\n",
    "import random\n",
    "import torch\n",
    "\n",
    "import isaaclab_mimic.envs  # noqa: F401\n",
    "from isaaclab_mimic.datagen.generation import env_loop, setup_env_config, setup_async_generation\n",
    "from isaaclab_mimic.datagen.utils import get_env_name_from_dataset, setup_output_paths, interactive_update_randomizable_params\n",
    "\n",
    "import isaaclab_tasks  # noqa: F401\n",
    "num_envs = args_cli.num_envs\n",
    "\n",
    "# Setup output paths and get env name\n",
    "output_dir, output_file_name = setup_output_paths(args_cli.output_file)\n",
    "env_name = args_cli.task or get_env_name_from_dataset(args_cli.input_file)\n",
    "\n",
    "# Configure environment\n",
    "env_cfg, success_term = setup_env_config(\n",
    "    env_name=env_name,\n",
    "    output_dir=output_dir,\n",
    "    output_file_name=output_file_name,\n",
    "    num_envs=num_envs,\n",
    "    device=args_cli.device,\n",
    "    generation_num_trials=args_cli.generation_num_trials,\n",
    ")\n",
    "\n",
    "\n",
    "# create environment\n",
    "env = gym.make(env_name, cfg=env_cfg)\n",
    "\n",
    "# set seed for generation\n",
    "random.seed(env.unwrapped.cfg.datagen_config.seed)\n",
    "np.random.seed(env.unwrapped.cfg.datagen_config.seed)\n",
    "torch.manual_seed(env.unwrapped.cfg.datagen_config.seed)\n",
    "\n",
    "# reset before starting\n",
    "env.reset()"
   ]
  },
  {
   "cell_type": "code",
   "execution_count": null,
   "id": "ec27b67f-d051-45e5-878f-2f6e1e6822f5",
   "metadata": {},
   "outputs": [],
   "source": [
    "for event_term in env.unwrapped.event_manager._mode_term_cfgs[\"reset\"]:\n",
    "    if hasattr(event_term, \"randomizable_params\") and event_term.randomizable_params is not None:\n",
    "        print(f\"Updating parameters for event: {event_term.func.__name__}\")\n",
    "        interactive_update_randomizable_params(event_term, event_term.randomizable_params, env=env)"
   ]
  },
  {
   "cell_type": "markdown",
   "id": "03d35f42",
   "metadata": {},
   "source": [
    "# Start data generation workflow"
   ]
  },
  {
   "cell_type": "code",
   "execution_count": null,
   "id": "035cd632-b2a5-4e23-8ad4-3df7e32a2512",
   "metadata": {},
   "outputs": [],
   "source": [
    "# Setup and run async data generation\n",
    "async_components = setup_async_generation(\n",
    "    env=env,\n",
    "    num_envs=args_cli.num_envs,\n",
    "    input_file=args_cli.input_file,\n",
    "    success_term=success_term,\n",
    "    pause_subtask=args_cli.pause_subtask\n",
    ")\n",
    "\n",
    "try:\n",
    "    asyncio.ensure_future(asyncio.gather(*async_components['tasks']))\n",
    "    env_loop(env, async_components['action_queue'], \n",
    "            async_components['info_pool'], async_components['event_loop'])\n",
    "except asyncio.CancelledError:\n",
    "    print(\"Tasks were cancelled.\")\n",
    "simulation_app.close()"
   ]
  }
 ],
 "metadata": {
  "kernelspec": {
   "display_name": "Python 3 (ipykernel)",
   "language": "python",
   "name": "python3"
  },
  "language_info": {
   "codemirror_mode": {
    "name": "ipython",
    "version": 3
   },
   "file_extension": ".py",
   "mimetype": "text/x-python",
   "name": "python",
   "nbconvert_exporter": "python",
   "pygments_lexer": "ipython3",
   "version": "3.10.15"
  }
 },
 "nbformat": 4,
 "nbformat_minor": 5
}
